{
 "cells": [
  {
   "cell_type": "markdown",
   "metadata": {},
   "source": [
    "# Day 3 Assignment Solutions"
   ]
  },
  {
   "cell_type": "markdown",
   "metadata": {},
   "source": [
    "### Questions 1:\n",
    "Create a numpy array starting from 2 till 50 with a stepsize of 3.\n"
   ]
  },
  {
   "cell_type": "code",
   "execution_count": 1,
   "metadata": {},
   "outputs": [],
   "source": [
    "import numpy as np"
   ]
  },
  {
   "cell_type": "code",
   "execution_count": 2,
   "metadata": {},
   "outputs": [
    {
     "name": "stdout",
     "output_type": "stream",
     "text": [
      "[ 2  5  8 11 14 17 20 23 26 29 32 35 38 41 44 47]\n"
     ]
    }
   ],
   "source": [
    "arr = np.arange(2,50,3)\n",
    "print(arr)"
   ]
  },
  {
   "cell_type": "markdown",
   "metadata": {},
   "source": [
    "### Questions 2:\n",
    "Accept two lists of 5 elements each from the user. \\n\n",
    "Convert them to numpy arrays. Concatenate these arrays and print it. Also sort these arrays and print it."
   ]
  },
  {
   "cell_type": "code",
   "execution_count": 3,
   "metadata": {},
   "outputs": [
    {
     "name": "stdout",
     "output_type": "stream",
     "text": [
      "6\n",
      "5\n",
      "3\n",
      "9\n",
      "7\n",
      "4\n",
      "8\n",
      "1\n",
      "2\n",
      "0\n",
      "[[6 5 3 9 7]\n",
      " [4 8 1 2 0]]\n",
      "[[3 5 6 7 9]\n",
      " [0 1 2 4 8]]\n"
     ]
    }
   ],
   "source": [
    "ls1 = list()\n",
    "ls2 = list()\n",
    "\n",
    "for i in range(5):\n",
    "    a = int(input())\n",
    "    ls1.append(a)\n",
    "\n",
    "for i in range(5):\n",
    "    a = int(input())\n",
    "    ls2.append(a)\n",
    "    \n",
    "arr = np.array([ls1, ls2])\n",
    "\n",
    "print(arr)\n",
    "print(np.sort(arr))"
   ]
  },
  {
   "cell_type": "markdown",
   "metadata": {},
   "source": [
    "### Questions 3:\n",
    "Write a code snippet to find the dimensions of a ndarray and its size.\n"
   ]
  },
  {
   "cell_type": "code",
   "execution_count": 5,
   "metadata": {},
   "outputs": [
    {
     "name": "stdout",
     "output_type": "stream",
     "text": [
      "[[6 6 8 1 2 5 4 8]\n",
      " [6 8 9 1 3 4 4 2]\n",
      " [9 8 6 5 6 5 1 7]]\n",
      "\n",
      "(3, 8)\n",
      "\n",
      "24\n"
     ]
    }
   ],
   "source": [
    "arr = np.array([[6,6,8,1,2,5,4,8], [6,8,9,1,3,4,4,2], [9,8,6,5,6,5,1,7]])\n",
    "\n",
    "print(arr)\n",
    "print()\n",
    "print(arr.shape)\n",
    "print()\n",
    "print(arr.size)"
   ]
  },
  {
   "cell_type": "markdown",
   "metadata": {},
   "source": [
    "### Questions 4:\n",
    "How to convert a 1D array into a 2D array? Demonstrate with the help of a code snippet\n",
    "Hint: np.newaxis, np.expand_dims"
   ]
  },
  {
   "cell_type": "code",
   "execution_count": 6,
   "metadata": {},
   "outputs": [
    {
     "name": "stdout",
     "output_type": "stream",
     "text": [
      "[1 2 3 4 5 6 7 8 9]\n",
      "\n",
      "[[1 2 3]\n",
      " [4 5 6]\n",
      " [7 8 9]]\n"
     ]
    }
   ],
   "source": [
    "a = np.array([1,2,3,4,5,6,7,8,9])\n",
    "print(a)\n",
    "print()\n",
    "b = np.reshape(a,(3,3))\n",
    "print(b)"
   ]
  },
  {
   "cell_type": "markdown",
   "metadata": {},
   "source": [
    "### Questions 5:\n",
    "Consider two square numpy arrays. Stack them vertically and horizontally.\n",
    "Hint: Use vstack(), hstack()\n"
   ]
  },
  {
   "cell_type": "code",
   "execution_count": 7,
   "metadata": {},
   "outputs": [
    {
     "name": "stdout",
     "output_type": "stream",
     "text": [
      "[[1 2 3]\n",
      " [4 5 6]\n",
      " [9 8 7]\n",
      " [7 6 5]]\n",
      "\n",
      "[[1 2 3 9 8 7]\n",
      " [4 5 6 7 6 5]]\n"
     ]
    }
   ],
   "source": [
    "a = np.array([[1,2,3],[4,5,6]])\n",
    "b = np.array([[9,8,7],[7,6,5]])\n",
    "vs = np.vstack((a,b))\n",
    "hs = np.hstack((a,b))\n",
    "print(vs)\n",
    "print()\n",
    "print(hs)"
   ]
  },
  {
   "cell_type": "markdown",
   "metadata": {},
   "source": [
    "### Questions 6:\n",
    "How to get unique items and counts of unique items?"
   ]
  },
  {
   "cell_type": "code",
   "execution_count": 8,
   "metadata": {},
   "outputs": [
    {
     "name": "stdout",
     "output_type": "stream",
     "text": [
      "[[ 1  5]\n",
      " [ 2  3]\n",
      " [ 5  1]\n",
      " [25  1]]\n"
     ]
    }
   ],
   "source": [
    "x = np.array([1,1,1,2,2,2,5,25,1,1])\n",
    "unique, counts = np.unique(x, return_counts=True)\n",
    "\n",
    "print(np.asarray((unique, counts)).T)"
   ]
  },
  {
   "cell_type": "code",
   "execution_count": null,
   "metadata": {},
   "outputs": [],
   "source": []
  }
 ],
 "metadata": {
  "kernelspec": {
   "display_name": "Python 3",
   "language": "python",
   "name": "python3"
  },
  "language_info": {
   "codemirror_mode": {
    "name": "ipython",
    "version": 3
   },
   "file_extension": ".py",
   "mimetype": "text/x-python",
   "name": "python",
   "nbconvert_exporter": "python",
   "pygments_lexer": "ipython3",
   "version": "3.7.6"
  }
 },
 "nbformat": 4,
 "nbformat_minor": 4
}
